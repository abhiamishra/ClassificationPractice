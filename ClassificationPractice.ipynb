{
  "nbformat": 4,
  "nbformat_minor": 0,
  "metadata": {
    "colab": {
      "name": "ClassificationPractice",
      "provenance": [],
      "collapsed_sections": [],
      "machine_shape": "hm",
      "include_colab_link": true
    },
    "kernelspec": {
      "name": "python3",
      "display_name": "Python 3"
    }
  },
  "cells": [
    {
      "cell_type": "markdown",
      "metadata": {
        "id": "view-in-github",
        "colab_type": "text"
      },
      "source": [
        "<a href=\"https://colab.research.google.com/github/abhiamishra/ClassificationPractice/blob/main/ClassificationPractice.ipynb\" target=\"_parent\"><img src=\"https://colab.research.google.com/assets/colab-badge.svg\" alt=\"Open In Colab\"/></a>"
      ]
    },
    {
      "cell_type": "markdown",
      "metadata": {
        "id": "0MRC0e0KhQ0S"
      },
      "source": [
        "# Building a pitch classifying model with Python"
      ]
    },
    {
      "cell_type": "markdown",
      "metadata": {
        "id": "LWd1UlMnhT2s"
      },
      "source": [
        "## Importing the libraries"
      ]
    },
    {
      "cell_type": "code",
      "metadata": {
        "id": "YvGPUQaHhXfL"
      },
      "source": [
        "import numpy as np\n",
        "import matplotlib.pyplot as plt\n",
        "import pandas as pd"
      ],
      "execution_count": null,
      "outputs": []
    },
    {
      "cell_type": "markdown",
      "metadata": {
        "id": "K1VMqkGvhc3-"
      },
      "source": [
        "## Importing the dataset"
      ]
    },
    {
      "cell_type": "code",
      "metadata": {
        "id": "M52QDmyzhh9s"
      },
      "source": [
        "dataset = pd.read_csv('TrainingDataset.csv',encoding='latin-1')\n",
        "dataset['identifier']= np.where(dataset['pos']==\"DL\", 1, 0)\n",
        "X = dataset.iloc[:, 1:-2].values\n",
        "y = dataset.iloc[:, -2].values"
      ],
      "execution_count": null,
      "outputs": []
    },
    {
      "cell_type": "code",
      "metadata": {
        "colab": {
          "base_uri": "https://localhost:8080/",
          "height": 419
        },
        "id": "bvlPZMQt8tS-",
        "outputId": "10604bd9-dc0d-4178-fc58-00b6e16e5ec5"
      },
      "source": [
        "dataset"
      ],
      "execution_count": null,
      "outputs": [
        {
          "output_type": "execute_result",
          "data": {
            "text/html": [
              "<div>\n",
              "<style scoped>\n",
              "    .dataframe tbody tr th:only-of-type {\n",
              "        vertical-align: middle;\n",
              "    }\n",
              "\n",
              "    .dataframe tbody tr th {\n",
              "        vertical-align: top;\n",
              "    }\n",
              "\n",
              "    .dataframe thead th {\n",
              "        text-align: right;\n",
              "    }\n",
              "</style>\n",
              "<table border=\"1\" class=\"dataframe\">\n",
              "  <thead>\n",
              "    <tr style=\"text-align: right;\">\n",
              "      <th></th>\n",
              "      <th>name</th>\n",
              "      <th>x</th>\n",
              "      <th>y</th>\n",
              "      <th>endX</th>\n",
              "      <th>endY</th>\n",
              "      <th>area</th>\n",
              "      <th>identifier</th>\n",
              "      <th>pos</th>\n",
              "    </tr>\n",
              "  </thead>\n",
              "  <tbody>\n",
              "    <tr>\n",
              "      <th>0</th>\n",
              "      <td>Enis Bardhi</td>\n",
              "      <td>62.3700</td>\n",
              "      <td>48.756</td>\n",
              "      <td>66.4650</td>\n",
              "      <td>45.152</td>\n",
              "      <td>1790.50851</td>\n",
              "      <td>0</td>\n",
              "      <td>ML</td>\n",
              "    </tr>\n",
              "    <tr>\n",
              "      <th>1</th>\n",
              "      <td>José Campaña</td>\n",
              "      <td>56.2800</td>\n",
              "      <td>45.152</td>\n",
              "      <td>62.4750</td>\n",
              "      <td>40.800</td>\n",
              "      <td>1771.24122</td>\n",
              "      <td>0</td>\n",
              "      <td>MC</td>\n",
              "    </tr>\n",
              "    <tr>\n",
              "      <th>2</th>\n",
              "      <td>Gonzalo Melero</td>\n",
              "      <td>48.7200</td>\n",
              "      <td>38.964</td>\n",
              "      <td>52.0275</td>\n",
              "      <td>38.420</td>\n",
              "      <td>1271.49120</td>\n",
              "      <td>0</td>\n",
              "      <td>MC</td>\n",
              "    </tr>\n",
              "    <tr>\n",
              "      <th>3</th>\n",
              "      <td>Sergio Postigo</td>\n",
              "      <td>31.7625</td>\n",
              "      <td>29.920</td>\n",
              "      <td>43.6800</td>\n",
              "      <td>32.674</td>\n",
              "      <td>1238.55438</td>\n",
              "      <td>0</td>\n",
              "      <td>DC</td>\n",
              "    </tr>\n",
              "    <tr>\n",
              "      <th>4</th>\n",
              "      <td>Toño</td>\n",
              "      <td>45.7275</td>\n",
              "      <td>62.764</td>\n",
              "      <td>50.4000</td>\n",
              "      <td>56.644</td>\n",
              "      <td>921.59550</td>\n",
              "      <td>1</td>\n",
              "      <td>DL</td>\n",
              "    </tr>\n",
              "    <tr>\n",
              "      <th>...</th>\n",
              "      <td>...</td>\n",
              "      <td>...</td>\n",
              "      <td>...</td>\n",
              "      <td>...</td>\n",
              "      <td>...</td>\n",
              "      <td>...</td>\n",
              "      <td>...</td>\n",
              "      <td>...</td>\n",
              "    </tr>\n",
              "    <tr>\n",
              "      <th>2198</th>\n",
              "      <td>André Ramalho</td>\n",
              "      <td>34.8600</td>\n",
              "      <td>22.712</td>\n",
              "      <td>43.3650</td>\n",
              "      <td>30.124</td>\n",
              "      <td>688.32456</td>\n",
              "      <td>0</td>\n",
              "      <td>DC</td>\n",
              "    </tr>\n",
              "    <tr>\n",
              "      <th>2199</th>\n",
              "      <td>Joakim Maehle</td>\n",
              "      <td>52.8150</td>\n",
              "      <td>6.052</td>\n",
              "      <td>57.3300</td>\n",
              "      <td>11.832</td>\n",
              "      <td>500.81031</td>\n",
              "      <td>0</td>\n",
              "      <td>DR</td>\n",
              "    </tr>\n",
              "    <tr>\n",
              "      <th>2200</th>\n",
              "      <td>Jhon Lucumí</td>\n",
              "      <td>28.4550</td>\n",
              "      <td>49.164</td>\n",
              "      <td>36.5400</td>\n",
              "      <td>42.160</td>\n",
              "      <td>294.96411</td>\n",
              "      <td>0</td>\n",
              "      <td>DC</td>\n",
              "    </tr>\n",
              "    <tr>\n",
              "      <th>2201</th>\n",
              "      <td>Gaetan Coucke</td>\n",
              "      <td>10.8675</td>\n",
              "      <td>32.232</td>\n",
              "      <td>27.6675</td>\n",
              "      <td>34.544</td>\n",
              "      <td>141.89322</td>\n",
              "      <td>0</td>\n",
              "      <td>GK</td>\n",
              "    </tr>\n",
              "    <tr>\n",
              "      <th>2202</th>\n",
              "      <td>Papu Gómez</td>\n",
              "      <td>71.2425</td>\n",
              "      <td>52.020</td>\n",
              "      <td>72.3975</td>\n",
              "      <td>46.274</td>\n",
              "      <td>816.96951</td>\n",
              "      <td>0</td>\n",
              "      <td>AMC</td>\n",
              "    </tr>\n",
              "  </tbody>\n",
              "</table>\n",
              "<p>2203 rows × 8 columns</p>\n",
              "</div>"
            ],
            "text/plain": [
              "                name        x       y  ...        area  identifier  pos\n",
              "0        Enis Bardhi  62.3700  48.756  ...  1790.50851           0   ML\n",
              "1       José Campaña  56.2800  45.152  ...  1771.24122           0   MC\n",
              "2     Gonzalo Melero  48.7200  38.964  ...  1271.49120           0   MC\n",
              "3     Sergio Postigo  31.7625  29.920  ...  1238.55438           0   DC\n",
              "4               Toño  45.7275  62.764  ...   921.59550           1   DL\n",
              "...              ...      ...     ...  ...         ...         ...  ...\n",
              "2198   André Ramalho  34.8600  22.712  ...   688.32456           0   DC\n",
              "2199   Joakim Maehle  52.8150   6.052  ...   500.81031           0   DR\n",
              "2200     Jhon Lucumí  28.4550  49.164  ...   294.96411           0   DC\n",
              "2201   Gaetan Coucke  10.8675  32.232  ...   141.89322           0   GK\n",
              "2202      Papu Gómez  71.2425  52.020  ...   816.96951           0  AMC\n",
              "\n",
              "[2203 rows x 8 columns]"
            ]
          },
          "metadata": {
            "tags": []
          },
          "execution_count": 122
        }
      ]
    },
    {
      "cell_type": "markdown",
      "metadata": {
        "id": "YvxIPVyMhmKp"
      },
      "source": [
        "## Splitting the dataset into the Training set and Test set"
      ]
    },
    {
      "cell_type": "code",
      "metadata": {
        "id": "AVzJWAXIhxoC"
      },
      "source": [
        "from sklearn.model_selection import train_test_split\n",
        "X_train, X_test, y_train, y_test = train_test_split(X, y, test_size = 0.25, random_state = 0)"
      ],
      "execution_count": null,
      "outputs": []
    },
    {
      "cell_type": "code",
      "metadata": {
        "id": "P3nS3-6r1i2B",
        "colab": {
          "base_uri": "https://localhost:8080/"
        },
        "outputId": "bbbbb8ec-b8e4-43aa-a0c9-a97b30b8c312"
      },
      "source": [
        "print(X_train)"
      ],
      "execution_count": null,
      "outputs": [
        {
          "output_type": "stream",
          "text": [
            "[[  55.86      29.648     60.27      30.736   1269.43131]\n",
            " [  32.55      25.84      43.575     27.676    830.43555]\n",
            " [  48.615     62.152     60.375     58.14     501.98127]\n",
            " ...\n",
            " [  69.9825    36.142     71.085     34.952   1345.22241]\n",
            " [  68.46      12.648     69.405     18.768   1180.48833]\n",
            " [   9.555     32.98      29.925     33.524    157.31562]]\n"
          ],
          "name": "stdout"
        }
      ]
    },
    {
      "cell_type": "code",
      "metadata": {
        "id": "8dpDLojm1mVG",
        "colab": {
          "base_uri": "https://localhost:8080/"
        },
        "outputId": "e9d96d3f-fea8-448a-d902-5cf0393cb0d8"
      },
      "source": [
        "print(y_train)"
      ],
      "execution_count": null,
      "outputs": [
        {
          "output_type": "stream",
          "text": [
            "[0 0 1 ... 0 0 0]\n"
          ],
          "name": "stdout"
        }
      ]
    },
    {
      "cell_type": "markdown",
      "metadata": {
        "id": "kW3c7UYih0hT"
      },
      "source": [
        "## Feature Scaling"
      ]
    },
    {
      "cell_type": "code",
      "metadata": {
        "id": "9fQlDPKCh8sc"
      },
      "source": [
        "from sklearn.preprocessing import StandardScaler\n",
        "sc = StandardScaler()\n",
        "X_train = sc.fit_transform(X_train)\n",
        "X_test = sc.transform(X_test)"
      ],
      "execution_count": null,
      "outputs": []
    },
    {
      "cell_type": "markdown",
      "metadata": {
        "id": "bb6jCOCQiAmP"
      },
      "source": [
        "## Training the Naive Bayes model on the Training set"
      ]
    },
    {
      "cell_type": "code",
      "metadata": {
        "id": "e0pFVAmciHQs",
        "colab": {
          "base_uri": "https://localhost:8080/"
        },
        "outputId": "1ba947be-59b9-4f3e-d73e-62cb560b26b5"
      },
      "source": [
        "from sklearn.naive_bayes import GaussianNB\n",
        "classifier = GaussianNB()\n",
        "classifier.fit(X_train, y_train)"
      ],
      "execution_count": null,
      "outputs": [
        {
          "output_type": "execute_result",
          "data": {
            "text/plain": [
              "GaussianNB(priors=None, var_smoothing=1e-09)"
            ]
          },
          "metadata": {
            "tags": []
          },
          "execution_count": 127
        }
      ]
    },
    {
      "cell_type": "markdown",
      "metadata": {
        "id": "vKYVQH-l5NpE"
      },
      "source": [
        "## Predicting the Test set results"
      ]
    },
    {
      "cell_type": "code",
      "metadata": {
        "id": "p6VMTb2O4hwM",
        "colab": {
          "base_uri": "https://localhost:8080/"
        },
        "outputId": "96154d41-5648-452b-ff1c-df55574f446a"
      },
      "source": [
        "y_pred = classifier.predict(X_test)\n",
        "print(np.concatenate((y_pred.reshape(len(y_pred),1), y_test.reshape(len(y_test),1)),1))"
      ],
      "execution_count": null,
      "outputs": [
        {
          "output_type": "stream",
          "text": [
            "[[0 0]\n",
            " [0 0]\n",
            " [0 0]\n",
            " ...\n",
            " [0 0]\n",
            " [0 0]\n",
            " [0 0]]\n"
          ],
          "name": "stdout"
        }
      ]
    },
    {
      "cell_type": "markdown",
      "metadata": {
        "id": "h4Hwj34ziWQW"
      },
      "source": [
        "## Making the Confusion Matrix"
      ]
    },
    {
      "cell_type": "code",
      "metadata": {
        "id": "D6bpZwUiiXic",
        "colab": {
          "base_uri": "https://localhost:8080/"
        },
        "outputId": "0e71a784-472f-4519-9c7f-3b0b3ce00d42"
      },
      "source": [
        "from sklearn.metrics import confusion_matrix, accuracy_score\n",
        "cm = confusion_matrix(y_test, y_pred)\n",
        "print(cm)\n",
        "accuracy_score(y_test, y_pred)"
      ],
      "execution_count": null,
      "outputs": [
        {
          "output_type": "stream",
          "text": [
            "[[500  18]\n",
            " [  5  28]]\n"
          ],
          "name": "stdout"
        },
        {
          "output_type": "execute_result",
          "data": {
            "text/plain": [
              "0.9582577132486388"
            ]
          },
          "metadata": {
            "tags": []
          },
          "execution_count": 129
        }
      ]
    },
    {
      "cell_type": "markdown",
      "metadata": {
        "id": "kOCsYF_0nOdv"
      },
      "source": [
        "# Testing on Dortmund's 2019/20 dataset:"
      ]
    },
    {
      "cell_type": "code",
      "metadata": {
        "id": "ew4J2IlmqPIz"
      },
      "source": [
        "dortmund_data = pd.read_csv('TestData.csv',encoding='latin-1')\n",
        "dortmund_test = dortmund_data.iloc[:, 1:-1].values\n",
        "dortmund_players = dortmund_data.iloc[:, 0].values"
      ],
      "execution_count": null,
      "outputs": []
    },
    {
      "cell_type": "code",
      "metadata": {
        "id": "eGQYmIUVsLFS"
      },
      "source": [
        "dortmund_feat = sc.transform(dortmund_test)"
      ],
      "execution_count": null,
      "outputs": []
    },
    {
      "cell_type": "code",
      "metadata": {
        "colab": {
          "base_uri": "https://localhost:8080/"
        },
        "id": "uFQ6tEacq5zA",
        "outputId": "9e07bfbf-8ce3-41cb-802b-4b619bfe6ce2"
      },
      "source": [
        "print(dortmund_players)"
      ],
      "execution_count": null,
      "outputs": [
        {
          "output_type": "stream",
          "text": [
            "['Nico Schulz' 'Lukasz Piszczek' 'Paco Alc<e1>cer' 'Marco Reus'\n",
            " 'Julian Weigl' 'Jadon Sancho' 'Manuel Akanji' 'Mats Hummels'\n",
            " 'Axel Witsel' 'Thorgan Hazard' 'Marwin Hitz' 'Achraf Hakimi'\n",
            " 'Julian Brandt' 'Mario G<f6>tze' 'Roman B<fc>rki' 'Thomas Delaney'\n",
            " 'Mahmoud Dahoud' 'Raphael Guerreiro' 'Dan-Axel Zagadou'\n",
            " 'Leonardo Balerdi' 'Erling Haaland' 'Giovanni Reyna' 'Emre Can'\n",
            " 'Mateu Morey']\n"
          ],
          "name": "stdout"
        }
      ]
    },
    {
      "cell_type": "code",
      "metadata": {
        "colab": {
          "base_uri": "https://localhost:8080/"
        },
        "id": "GHxRoBpbq44l",
        "outputId": "21efac4f-439b-4906-e78b-b6c75d5c71b6"
      },
      "source": [
        "dortmund_predictions = classifier.predict(dortmund_feat)\n",
        "print(np.concatenate((dortmund_players.reshape(len(dortmund_players),1), \n",
        "                      dortmund_predictions.reshape(len(dortmund_predictions),1)),1))"
      ],
      "execution_count": null,
      "outputs": [
        {
          "output_type": "stream",
          "text": [
            "[['Nico Schulz' 1]\n",
            " ['Lukasz Piszczek' 0]\n",
            " ['Paco Alc<e1>cer' 0]\n",
            " ['Marco Reus' 0]\n",
            " ['Julian Weigl' 0]\n",
            " ['Jadon Sancho' 0]\n",
            " ['Manuel Akanji' 0]\n",
            " ['Mats Hummels' 0]\n",
            " ['Axel Witsel' 0]\n",
            " ['Thorgan Hazard' 0]\n",
            " ['Marwin Hitz' 0]\n",
            " ['Achraf Hakimi' 0]\n",
            " ['Julian Brandt' 0]\n",
            " ['Mario G<f6>tze' 0]\n",
            " ['Roman B<fc>rki' 0]\n",
            " ['Thomas Delaney' 0]\n",
            " ['Mahmoud Dahoud' 0]\n",
            " ['Raphael Guerreiro' 1]\n",
            " ['Dan-Axel Zagadou' 1]\n",
            " ['Leonardo Balerdi' 0]\n",
            " ['Erling Haaland' 0]\n",
            " ['Giovanni Reyna' 0]\n",
            " ['Emre Can' 0]\n",
            " ['Mateu Morey' 0]]\n"
          ],
          "name": "stdout"
        }
      ]
    }
  ]
}